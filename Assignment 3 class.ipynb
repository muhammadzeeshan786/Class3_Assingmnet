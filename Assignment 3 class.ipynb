{
 "cells": [
  {
   "cell_type": "code",
   "execution_count": 1,
   "metadata": {},
   "outputs": [],
   "source": [
    "#employee_data = ['Ali', 125000, 'Google', 5]\n",
    "employee_data = [\"Ali Working in Google and his salry is 125000\"]"
   ]
  },
  {
   "cell_type": "code",
   "execution_count": 2,
   "metadata": {},
   "outputs": [
    {
     "data": {
      "text/plain": [
       "['Ali Working in Google and his salry is 125000']"
      ]
     },
     "execution_count": 2,
     "metadata": {},
     "output_type": "execute_result"
    }
   ],
   "source": [
    "employee_data"
   ]
  },
  {
   "cell_type": "code",
   "execution_count": 3,
   "metadata": {},
   "outputs": [],
   "source": [
    "studentData = [\"Ali Raza\", 22, 91.24, \"Computer Science\", 5, \"University of Agriculture\"]"
   ]
  },
  {
   "cell_type": "code",
   "execution_count": 4,
   "metadata": {},
   "outputs": [
    {
     "data": {
      "text/plain": [
       "['Ali Raza', 22, 91.24, 'Computer Science', 5, 'University of Agriculture']"
      ]
     },
     "execution_count": 4,
     "metadata": {},
     "output_type": "execute_result"
    }
   ],
   "source": [
    "studentData"
   ]
  },
  {
   "cell_type": "code",
   "execution_count": 13,
   "metadata": {},
   "outputs": [],
   "source": [
    "studentData.append(1250)"
   ]
  },
  {
   "cell_type": "code",
   "execution_count": 14,
   "metadata": {},
   "outputs": [
    {
     "data": {
      "text/plain": [
       "['Ali Raza',\n",
       " 22,\n",
       " 91.24,\n",
       " 'Computer Science',\n",
       " 5,\n",
       " 'University of Agriculture',\n",
       " 3037401223,\n",
       " 3037401223,\n",
       " 1250]"
      ]
     },
     "execution_count": 14,
     "metadata": {},
     "output_type": "execute_result"
    }
   ],
   "source": [
    "studentData"
   ]
  },
  {
   "cell_type": "code",
   "execution_count": 15,
   "metadata": {},
   "outputs": [],
   "source": [
    "del studentData[6]"
   ]
  },
  {
   "cell_type": "code",
   "execution_count": 16,
   "metadata": {},
   "outputs": [
    {
     "data": {
      "text/plain": [
       "['Ali Raza',\n",
       " 22,\n",
       " 91.24,\n",
       " 'Computer Science',\n",
       " 5,\n",
       " 'University of Agriculture',\n",
       " 3037401223,\n",
       " 1250]"
      ]
     },
     "execution_count": 16,
     "metadata": {},
     "output_type": "execute_result"
    }
   ],
   "source": [
    "studentData"
   ]
  },
  {
   "cell_type": "code",
   "execution_count": 17,
   "metadata": {},
   "outputs": [],
   "source": [
    "del studentData[6]"
   ]
  },
  {
   "cell_type": "code",
   "execution_count": 18,
   "metadata": {},
   "outputs": [
    {
     "data": {
      "text/plain": [
       "['Ali Raza',\n",
       " 22,\n",
       " 91.24,\n",
       " 'Computer Science',\n",
       " 5,\n",
       " 'University of Agriculture',\n",
       " 1250]"
      ]
     },
     "execution_count": 18,
     "metadata": {},
     "output_type": "execute_result"
    }
   ],
   "source": [
    "studentData"
   ]
  },
  {
   "cell_type": "code",
   "execution_count": 19,
   "metadata": {},
   "outputs": [
    {
     "data": {
      "text/plain": [
       "['Ali Raza',\n",
       " 22,\n",
       " 91.24,\n",
       " 'Computer Science',\n",
       " 5,\n",
       " 'University of Agriculture',\n",
       " 1250]"
      ]
     },
     "execution_count": 19,
     "metadata": {},
     "output_type": "execute_result"
    }
   ],
   "source": [
    "#Change Name from 'Ali Raza' to 'Zohaib Ali'\n",
    "#Change No of subjects from 5 to 7\n",
    "studentData"
   ]
  },
  {
   "cell_type": "code",
   "execution_count": 25,
   "metadata": {},
   "outputs": [],
   "source": [
    "studentData.remove(\"Ali Raza\")"
   ]
  },
  {
   "cell_type": "code",
   "execution_count": 26,
   "metadata": {},
   "outputs": [],
   "source": [
    "studentData.insert(0, \"Zohaib\")"
   ]
  },
  {
   "cell_type": "code",
   "execution_count": 27,
   "metadata": {},
   "outputs": [
    {
     "data": {
      "text/plain": [
       "['Zohaib', 22, 91.24, 'Computer Science', 5, 'University of Agriculture', 1250]"
      ]
     },
     "execution_count": 27,
     "metadata": {},
     "output_type": "execute_result"
    }
   ],
   "source": [
    "studentData"
   ]
  },
  {
   "cell_type": "code",
   "execution_count": 34,
   "metadata": {},
   "outputs": [],
   "source": [
    "#pop\n",
    "salry = studentData.pop(-1)"
   ]
  },
  {
   "cell_type": "code",
   "execution_count": 35,
   "metadata": {},
   "outputs": [
    {
     "data": {
      "text/plain": [
       "1250"
      ]
     },
     "execution_count": 35,
     "metadata": {},
     "output_type": "execute_result"
    }
   ],
   "source": [
    "salry"
   ]
  },
  {
   "cell_type": "code",
   "execution_count": 36,
   "metadata": {},
   "outputs": [
    {
     "data": {
      "text/plain": [
       "['Zohaib', 22, 91.24, 'Computer Science', 5, 'University of Agriculture']"
      ]
     },
     "execution_count": 36,
     "metadata": {},
     "output_type": "execute_result"
    }
   ],
   "source": [
    "studentData"
   ]
  },
  {
   "cell_type": "code",
   "execution_count": 37,
   "metadata": {},
   "outputs": [],
   "source": [
    "employeeData = [[\"Ali\", 35000, \"Software Engineer\"],\n",
    "                    [\"Talha\", 55000, \"Product Manager\"],\n",
    "                     [\"Nasir\", 79000, \"Computer Engineer\"],\n",
    "                        [\"Khalid\", 44000, \"DBA\"]]"
   ]
  },
  {
   "cell_type": "code",
   "execution_count": 38,
   "metadata": {},
   "outputs": [
    {
     "data": {
      "text/plain": [
       "[['Ali', 35000, 'Software Engineer'],\n",
       " ['Talha', 55000, 'Product Manager'],\n",
       " ['Nasir', 79000, 'Computer Engineer'],\n",
       " ['Khalid', 44000, 'DBA']]"
      ]
     },
     "execution_count": 38,
     "metadata": {},
     "output_type": "execute_result"
    }
   ],
   "source": [
    "employeeData"
   ]
  },
  {
   "cell_type": "code",
   "execution_count": 42,
   "metadata": {},
   "outputs": [
    {
     "name": "stdout",
     "output_type": "stream",
     "text": [
      "Ali\n",
      "Talha\n",
      "Nasir\n",
      "Khalid\n"
     ]
    }
   ],
   "source": [
    "for i in employeeData:\n",
    "    print(i[0])"
   ]
  },
  {
   "cell_type": "code",
   "execution_count": 44,
   "metadata": {},
   "outputs": [
    {
     "name": "stdout",
     "output_type": "stream",
     "text": [
      "35000\n",
      "55000\n",
      "79000\n",
      "44000\n"
     ]
    }
   ],
   "source": [
    "for i in employeeData:\n",
    "    print(i[1])"
   ]
  },
  {
   "cell_type": "code",
   "execution_count": 45,
   "metadata": {},
   "outputs": [],
   "source": [
    "total_salry = 0\n",
    "for i in employeeData:\n",
    "    total_salry +=i[1]"
   ]
  },
  {
   "cell_type": "code",
   "execution_count": 46,
   "metadata": {},
   "outputs": [
    {
     "data": {
      "text/plain": [
       "213000"
      ]
     },
     "execution_count": 46,
     "metadata": {},
     "output_type": "execute_result"
    }
   ],
   "source": [
    "total_salry"
   ]
  },
  {
   "cell_type": "code",
   "execution_count": 47,
   "metadata": {},
   "outputs": [
    {
     "data": {
      "text/plain": [
       "[['Ali', 35000, 'Software Engineer'],\n",
       " ['Talha', 55000, 'Product Manager'],\n",
       " ['Nasir', 79000, 'Computer Engineer'],\n",
       " ['Khalid', 44000, 'DBA']]"
      ]
     },
     "execution_count": 47,
     "metadata": {},
     "output_type": "execute_result"
    }
   ],
   "source": [
    "employeeData"
   ]
  },
  {
   "cell_type": "code",
   "execution_count": 50,
   "metadata": {},
   "outputs": [
    {
     "name": "stdout",
     "output_type": "stream",
     "text": [
      "35000\n",
      "55000\n",
      "79000\n",
      "44000\n"
     ]
    }
   ],
   "source": [
    "for gh in employeeData:\n",
    "    print(gh[1])"
   ]
  },
  {
   "cell_type": "code",
   "execution_count": 59,
   "metadata": {},
   "outputs": [],
   "source": [
    "total_Salry_Of_All_Employment = 0\n",
    "\n",
    "for gh in employeeData:\n",
    "    total_Salry_Of_All_Employment += gh[1]\n",
    "    "
   ]
  },
  {
   "cell_type": "code",
   "execution_count": 60,
   "metadata": {},
   "outputs": [
    {
     "data": {
      "text/plain": [
       "213000"
      ]
     },
     "execution_count": 60,
     "metadata": {},
     "output_type": "execute_result"
    }
   ],
   "source": [
    "total_Salry_Of_All_Employment"
   ]
  },
  {
   "cell_type": "code",
   "execution_count": 74,
   "metadata": {},
   "outputs": [],
   "source": [
    "employee = [\"saad\" , 27 , \"Male\"]\n",
    "employee1 = [\"saad\" , 27 , \"Male\"]"
   ]
  },
  {
   "cell_type": "code",
   "execution_count": 78,
   "metadata": {},
   "outputs": [
    {
     "ename": "SyntaxError",
     "evalue": "can't assign to literal (<ipython-input-78-c28f98dd9647>, line 1)",
     "output_type": "error",
     "traceback": [
      "\u001b[1;36m  File \u001b[1;32m\"<ipython-input-78-c28f98dd9647>\"\u001b[1;36m, line \u001b[1;32m1\u001b[0m\n\u001b[1;33m    employees = [ employee ,employee1 [\"Nasir\" , 22 , \"Male\"],[\"Ramish\" , 18 , \"Female\"]]= [employee, employee1 , [\"Nasir\" , 22 , \"Male\"],[\"Ramish\" , 18 , \"Female\"]]\u001b[0m\n\u001b[1;37m               ^\u001b[0m\n\u001b[1;31mSyntaxError\u001b[0m\u001b[1;31m:\u001b[0m can't assign to literal\n"
     ]
    }
   ],
   "source": [
    "employees = [ employee ,employee1 [\"Nasir\" , 22 , \"Male\"],[\"Ramish\" , 18 , \"Female\"]]= [employee, employee1 , [\"Nasir\" , 22 , \"Male\"],[\"Ramish\" , 18 , \"Female\"]]"
   ]
  },
  {
   "cell_type": "code",
   "execution_count": 91,
   "metadata": {},
   "outputs": [],
   "source": [
    "employee = [\"Zeeshan\" , 12500 , \"Male\"]\n",
    "employee1 = [\"yasin\" , 13500 , \"Male\"]"
   ]
  },
  {
   "cell_type": "code",
   "execution_count": 92,
   "metadata": {},
   "outputs": [],
   "source": [
    "employees = [employee, employee1 , [\"Nasir\" , 14500 , \"Male\"],[\"Ramish\" , 15500, \"Female\"]]"
   ]
  },
  {
   "cell_type": "code",
   "execution_count": 93,
   "metadata": {},
   "outputs": [
    {
     "data": {
      "text/plain": [
       "[['Zeeshan', 12500, 'Male'],\n",
       " ['yasin', 13500, 'Male'],\n",
       " ['Nasir', 14500, 'Male'],\n",
       " ['Ramish', 15500, 'Female']]"
      ]
     },
     "execution_count": 93,
     "metadata": {},
     "output_type": "execute_result"
    }
   ],
   "source": [
    "employees"
   ]
  },
  {
   "cell_type": "code",
   "execution_count": 94,
   "metadata": {},
   "outputs": [],
   "source": [
    "total_Salry = 0\n",
    "for sal in employees:\n",
    "    total_Salry +=sal[1]"
   ]
  },
  {
   "cell_type": "code",
   "execution_count": 95,
   "metadata": {},
   "outputs": [
    {
     "data": {
      "text/plain": [
       "56000"
      ]
     },
     "execution_count": 95,
     "metadata": {},
     "output_type": "execute_result"
    }
   ],
   "source": [
    "total_Salry"
   ]
  },
  {
   "cell_type": "code",
   "execution_count": 96,
   "metadata": {},
   "outputs": [
    {
     "name": "stdout",
     "output_type": "stream",
     "text": [
      "Zeeshan\n",
      "yasin\n",
      "Nasir\n",
      "Ramish\n"
     ]
    }
   ],
   "source": [
    "for nam in employees:\n",
    "    print(nam[0])"
   ]
  },
  {
   "cell_type": "code",
   "execution_count": 97,
   "metadata": {},
   "outputs": [
    {
     "name": "stdout",
     "output_type": "stream",
     "text": [
      "Male\n",
      "Male\n",
      "Male\n",
      "Female\n"
     ]
    }
   ],
   "source": [
    "for gen in employees:\n",
    "    print(gen[2])"
   ]
  },
  {
   "cell_type": "code",
   "execution_count": null,
   "metadata": {},
   "outputs": [],
   "source": []
  }
 ],
 "metadata": {
  "kernelspec": {
   "display_name": "Python 3",
   "language": "python",
   "name": "python3"
  },
  "language_info": {
   "codemirror_mode": {
    "name": "ipython",
    "version": 3
   },
   "file_extension": ".py",
   "mimetype": "text/x-python",
   "name": "python",
   "nbconvert_exporter": "python",
   "pygments_lexer": "ipython3",
   "version": "3.7.4"
  }
 },
 "nbformat": 4,
 "nbformat_minor": 2
}
